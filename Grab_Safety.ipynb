{
  "nbformat": 4,
  "nbformat_minor": 0,
  "metadata": {
    "colab": {
      "name": "Grab-Safety.ipynb",
      "provenance": [],
      "machine_shape": "hm"
    },
    "kernelspec": {
      "name": "python3",
      "display_name": "Python 3"
    },
    "accelerator": "GPU"
  },
  "cells": [
    {
      "cell_type": "markdown",
      "metadata": {
        "id": "BoZNW1AbwsfC",
        "colab_type": "text"
      },
      "source": [
        "**IMPORTING LIBRARIES**"
      ]
    },
    {
      "cell_type": "code",
      "metadata": {
        "id": "fKq38iJqQoTm",
        "colab_type": "code",
        "colab": {}
      },
      "source": [
        "import pandas as pd\n",
        "import numpy as np\n",
        "import seaborn as sns\n",
        "import matplotlib.pyplot as plt\n",
        "%matplotlib inline"
      ],
      "execution_count": 0,
      "outputs": []
    },
    {
      "cell_type": "code",
      "metadata": {
        "id": "KqhYmQNiQyg7",
        "colab_type": "code",
        "outputId": "d56fd3e5-a511-4043-dcfb-bb4676bf9756",
        "colab": {
          "base_uri": "https://localhost:8080/",
          "height": 122
        }
      },
      "source": [
        "from google.colab import drive\n",
        "drive.mount('/content/drive')"
      ],
      "execution_count": 0,
      "outputs": [
        {
          "output_type": "stream",
          "text": [
            "Go to this URL in a browser: https://accounts.google.com/o/oauth2/auth?client_id=947318989803-6bn6qk8qdgf4n4g3pfee6491hc0brc4i.apps.googleusercontent.com&redirect_uri=urn%3Aietf%3Awg%3Aoauth%3A2.0%3Aoob&scope=email%20https%3A%2F%2Fwww.googleapis.com%2Fauth%2Fdocs.test%20https%3A%2F%2Fwww.googleapis.com%2Fauth%2Fdrive%20https%3A%2F%2Fwww.googleapis.com%2Fauth%2Fdrive.photos.readonly%20https%3A%2F%2Fwww.googleapis.com%2Fauth%2Fpeopleapi.readonly&response_type=code\n",
            "\n",
            "Enter your authorization code:\n",
            "··········\n",
            "Mounted at /content/drive\n"
          ],
          "name": "stdout"
        }
      ]
    },
    {
      "cell_type": "markdown",
      "metadata": {
        "id": "a24b6LDzw17e",
        "colab_type": "text"
      },
      "source": [
        "**IMPORTING FEATURES AND LABELS DATA**"
      ]
    },
    {
      "cell_type": "code",
      "metadata": {
        "id": "deN2l4NIQ9JI",
        "colab_type": "code",
        "colab": {}
      },
      "source": [
        "df1 = pd.read_csv(\"drive/My Drive/safety/features/part-00000-e6120af0-10c2-4248-97c4-81baf4304e5c-c000.csv\")\n",
        "df2 = pd.read_csv(\"drive/My Drive/safety/features/part-00001-e6120af0-10c2-4248-97c4-81baf4304e5c-c000.csv\")\n",
        "df3 = pd.read_csv(\"drive/My Drive/safety/features/part-00002-e6120af0-10c2-4248-97c4-81baf4304e5c-c000.csv\")\n",
        "df4 = pd.read_csv(\"drive/My Drive/safety/features/part-00003-e6120af0-10c2-4248-97c4-81baf4304e5c-c000.csv\")\n",
        "df5 = pd.read_csv(\"drive/My Drive/safety/features/part-00004-e6120af0-10c2-4248-97c4-81baf4304e5c-c000.csv\")\n",
        "df6 = pd.read_csv(\"drive/My Drive/safety/features/part-00005-e6120af0-10c2-4248-97c4-81baf4304e5c-c000.csv\")\n",
        "df7 = pd.read_csv(\"drive/My Drive/safety/features/part-00006-e6120af0-10c2-4248-97c4-81baf4304e5c-c000.csv\")\n",
        "df8 = pd.read_csv(\"drive/My Drive/safety/features/part-00007-e6120af0-10c2-4248-97c4-81baf4304e5c-c000.csv\")\n",
        "df9 = pd.read_csv(\"drive/My Drive/safety/features/part-00008-e6120af0-10c2-4248-97c4-81baf4304e5c-c000.csv\")\n",
        "df10 = pd.read_csv(\"drive/My Drive/safety/features/part-00009-e6120af0-10c2-4248-97c4-81baf4304e5c-c000.csv\")"
      ],
      "execution_count": 0,
      "outputs": []
    },
    {
      "cell_type": "code",
      "metadata": {
        "id": "VQCPH01bQpWS",
        "colab_type": "code",
        "colab": {}
      },
      "source": [
        "#Merging 10 features data into 1\n",
        "df_f = pd.concat([df1, df2, df3, df4, df5, df6, df7, df8, df9, df10])\n",
        "#Loading labels data\n",
        "labels = pd.read_csv('drive/My Drive/safety/labels/part-00000-e9445087-aa0a-433b-a7f6-7f4c19d78ad6-c000.csv')"
      ],
      "execution_count": 0,
      "outputs": []
    },
    {
      "cell_type": "code",
      "metadata": {
        "id": "fWCZJrekROKB",
        "colab_type": "code",
        "outputId": "25e6738c-735f-482c-fbcf-77ed86498ef6",
        "colab": {
          "base_uri": "https://localhost:8080/",
          "height": 51
        }
      },
      "source": [
        "#check rows and columns length\n",
        "print(df_f.shape)\n",
        "print(labels.shape)"
      ],
      "execution_count": 0,
      "outputs": [
        {
          "output_type": "stream",
          "text": [
            "(16135561, 11)\n",
            "(20018, 2)\n"
          ],
          "name": "stdout"
        }
      ]
    },
    {
      "cell_type": "markdown",
      "metadata": {
        "id": "HGznvrP-xDF9",
        "colab_type": "text"
      },
      "source": [
        "**Exploratory Data Analysis**"
      ]
    },
    {
      "cell_type": "code",
      "metadata": {
        "id": "1vovD0SzRQMG",
        "colab_type": "code",
        "colab": {}
      },
      "source": [
        "#Delete if there is null value\n",
        "df_f.dropna(inplace=True)\n",
        "labels.dropna(inplace=True)"
      ],
      "execution_count": 0,
      "outputs": []
    },
    {
      "cell_type": "code",
      "metadata": {
        "id": "roaMIN6uRTCf",
        "colab_type": "code",
        "colab": {}
      },
      "source": [
        "#Group data with the same bookingID by add mean, sum, max, and min column\n",
        "data = pd.DataFrame()\n",
        "for col in df_f.columns:\n",
        "    if col != \"bookingID\" and col != \"label\":\n",
        "        temp = df_f.groupby(\"bookingID\")[col].agg([\"mean\", \"sum\", \"max\", \"min\"])\n",
        "        data[col + \"_mean\"] = temp[\"mean\"]\n",
        "        data[col + \"_sum\"] = temp[\"sum\"]\n",
        "        data[col + \"_max\"] = temp[\"max\"]\n",
        "        data[col + \"_min\"] = temp[\"min\"]"
      ],
      "execution_count": 0,
      "outputs": []
    },
    {
      "cell_type": "code",
      "metadata": {
        "id": "0HMmMbj5clSP",
        "colab_type": "code",
        "outputId": "52eea1b5-26e9-438d-9852-e75892481de6",
        "colab": {
          "base_uri": "https://localhost:8080/",
          "height": 255
        }
      },
      "source": [
        "data.head()"
      ],
      "execution_count": 0,
      "outputs": [
        {
          "output_type": "execute_result",
          "data": {
            "text/html": [
              "<div>\n",
              "<style scoped>\n",
              "    .dataframe tbody tr th:only-of-type {\n",
              "        vertical-align: middle;\n",
              "    }\n",
              "\n",
              "    .dataframe tbody tr th {\n",
              "        vertical-align: top;\n",
              "    }\n",
              "\n",
              "    .dataframe thead th {\n",
              "        text-align: right;\n",
              "    }\n",
              "</style>\n",
              "<table border=\"1\" class=\"dataframe\">\n",
              "  <thead>\n",
              "    <tr style=\"text-align: right;\">\n",
              "      <th></th>\n",
              "      <th>Accuracy_mean</th>\n",
              "      <th>Accuracy_sum</th>\n",
              "      <th>Accuracy_max</th>\n",
              "      <th>Accuracy_min</th>\n",
              "      <th>Bearing_mean</th>\n",
              "      <th>Bearing_sum</th>\n",
              "      <th>Bearing_max</th>\n",
              "      <th>Bearing_min</th>\n",
              "      <th>acceleration_x_mean</th>\n",
              "      <th>acceleration_x_sum</th>\n",
              "      <th>acceleration_x_max</th>\n",
              "      <th>acceleration_x_min</th>\n",
              "      <th>acceleration_y_mean</th>\n",
              "      <th>acceleration_y_sum</th>\n",
              "      <th>acceleration_y_max</th>\n",
              "      <th>acceleration_y_min</th>\n",
              "      <th>acceleration_z_mean</th>\n",
              "      <th>acceleration_z_sum</th>\n",
              "      <th>acceleration_z_max</th>\n",
              "      <th>acceleration_z_min</th>\n",
              "      <th>gyro_x_mean</th>\n",
              "      <th>gyro_x_sum</th>\n",
              "      <th>gyro_x_max</th>\n",
              "      <th>gyro_x_min</th>\n",
              "      <th>gyro_y_mean</th>\n",
              "      <th>gyro_y_sum</th>\n",
              "      <th>gyro_y_max</th>\n",
              "      <th>gyro_y_min</th>\n",
              "      <th>gyro_z_mean</th>\n",
              "      <th>gyro_z_sum</th>\n",
              "      <th>gyro_z_max</th>\n",
              "      <th>gyro_z_min</th>\n",
              "      <th>second_mean</th>\n",
              "      <th>second_sum</th>\n",
              "      <th>second_max</th>\n",
              "      <th>second_min</th>\n",
              "      <th>Speed_mean</th>\n",
              "      <th>Speed_sum</th>\n",
              "      <th>Speed_max</th>\n",
              "      <th>Speed_min</th>\n",
              "    </tr>\n",
              "    <tr>\n",
              "      <th>bookingID</th>\n",
              "      <th></th>\n",
              "      <th></th>\n",
              "      <th></th>\n",
              "      <th></th>\n",
              "      <th></th>\n",
              "      <th></th>\n",
              "      <th></th>\n",
              "      <th></th>\n",
              "      <th></th>\n",
              "      <th></th>\n",
              "      <th></th>\n",
              "      <th></th>\n",
              "      <th></th>\n",
              "      <th></th>\n",
              "      <th></th>\n",
              "      <th></th>\n",
              "      <th></th>\n",
              "      <th></th>\n",
              "      <th></th>\n",
              "      <th></th>\n",
              "      <th></th>\n",
              "      <th></th>\n",
              "      <th></th>\n",
              "      <th></th>\n",
              "      <th></th>\n",
              "      <th></th>\n",
              "      <th></th>\n",
              "      <th></th>\n",
              "      <th></th>\n",
              "      <th></th>\n",
              "      <th></th>\n",
              "      <th></th>\n",
              "      <th></th>\n",
              "      <th></th>\n",
              "      <th></th>\n",
              "      <th></th>\n",
              "      <th></th>\n",
              "      <th></th>\n",
              "      <th></th>\n",
              "      <th></th>\n",
              "    </tr>\n",
              "  </thead>\n",
              "  <tbody>\n",
              "    <tr>\n",
              "      <th>0</th>\n",
              "      <td>10.165339</td>\n",
              "      <td>10206.000</td>\n",
              "      <td>48.000</td>\n",
              "      <td>4.0</td>\n",
              "      <td>176.526099</td>\n",
              "      <td>177232.203582</td>\n",
              "      <td>359.979767</td>\n",
              "      <td>0.037464</td>\n",
              "      <td>-0.711264</td>\n",
              "      <td>-714.108606</td>\n",
              "      <td>4.782614</td>\n",
              "      <td>-4.692294</td>\n",
              "      <td>-9.613822</td>\n",
              "      <td>-9652.277441</td>\n",
              "      <td>-6.119916</td>\n",
              "      <td>-12.764703</td>\n",
              "      <td>-1.619658</td>\n",
              "      <td>-1626.136658</td>\n",
              "      <td>2.318857</td>\n",
              "      <td>-6.251807</td>\n",
              "      <td>0.003328</td>\n",
              "      <td>3.340816</td>\n",
              "      <td>0.438371</td>\n",
              "      <td>-0.392537</td>\n",
              "      <td>-0.006118</td>\n",
              "      <td>-6.142259</td>\n",
              "      <td>0.469724</td>\n",
              "      <td>-0.609930</td>\n",
              "      <td>-0.004188</td>\n",
              "      <td>-4.204491</td>\n",
              "      <td>0.372807</td>\n",
              "      <td>-0.731892</td>\n",
              "      <td>903.526892</td>\n",
              "      <td>907141.0</td>\n",
              "      <td>1589.0</td>\n",
              "      <td>0.0</td>\n",
              "      <td>8.994822</td>\n",
              "      <td>9030.801222</td>\n",
              "      <td>22.946083</td>\n",
              "      <td>-1.0</td>\n",
              "    </tr>\n",
              "    <tr>\n",
              "      <th>1</th>\n",
              "      <td>3.718763</td>\n",
              "      <td>3164.667</td>\n",
              "      <td>7.709</td>\n",
              "      <td>3.0</td>\n",
              "      <td>124.198590</td>\n",
              "      <td>105693.000000</td>\n",
              "      <td>337.000000</td>\n",
              "      <td>0.000000</td>\n",
              "      <td>-0.525406</td>\n",
              "      <td>-447.120797</td>\n",
              "      <td>3.813341</td>\n",
              "      <td>-5.352994</td>\n",
              "      <td>9.532086</td>\n",
              "      <td>8111.805312</td>\n",
              "      <td>12.536156</td>\n",
              "      <td>6.623425</td>\n",
              "      <td>-2.198999</td>\n",
              "      <td>-1871.348183</td>\n",
              "      <td>1.481293</td>\n",
              "      <td>-5.355455</td>\n",
              "      <td>-0.002467</td>\n",
              "      <td>-2.099544</td>\n",
              "      <td>0.126536</td>\n",
              "      <td>-0.125367</td>\n",
              "      <td>-0.007540</td>\n",
              "      <td>-6.416598</td>\n",
              "      <td>0.470837</td>\n",
              "      <td>-0.678183</td>\n",
              "      <td>0.000405</td>\n",
              "      <td>0.344877</td>\n",
              "      <td>0.235131</td>\n",
              "      <td>-0.121265</td>\n",
              "      <td>581.175088</td>\n",
              "      <td>494580.0</td>\n",
              "      <td>1034.0</td>\n",
              "      <td>0.0</td>\n",
              "      <td>7.881588</td>\n",
              "      <td>6707.231233</td>\n",
              "      <td>21.882141</td>\n",
              "      <td>-1.0</td>\n",
              "    </tr>\n",
              "    <tr>\n",
              "      <th>2</th>\n",
              "      <td>3.930626</td>\n",
              "      <td>766.472</td>\n",
              "      <td>8.000</td>\n",
              "      <td>3.0</td>\n",
              "      <td>173.794872</td>\n",
              "      <td>33890.000000</td>\n",
              "      <td>354.000000</td>\n",
              "      <td>1.000000</td>\n",
              "      <td>0.306786</td>\n",
              "      <td>59.823351</td>\n",
              "      <td>1.956122</td>\n",
              "      <td>-2.971295</td>\n",
              "      <td>9.843183</td>\n",
              "      <td>1919.420684</td>\n",
              "      <td>13.333716</td>\n",
              "      <td>7.941810</td>\n",
              "      <td>0.139347</td>\n",
              "      <td>27.172626</td>\n",
              "      <td>2.312870</td>\n",
              "      <td>-3.282551</td>\n",
              "      <td>0.006458</td>\n",
              "      <td>1.259283</td>\n",
              "      <td>0.282162</td>\n",
              "      <td>-0.155218</td>\n",
              "      <td>-0.012861</td>\n",
              "      <td>-2.507892</td>\n",
              "      <td>0.431695</td>\n",
              "      <td>-0.462000</td>\n",
              "      <td>0.002597</td>\n",
              "      <td>0.506505</td>\n",
              "      <td>0.255884</td>\n",
              "      <td>-0.125907</td>\n",
              "      <td>339.441026</td>\n",
              "      <td>66191.0</td>\n",
              "      <td>825.0</td>\n",
              "      <td>0.0</td>\n",
              "      <td>3.157213</td>\n",
              "      <td>615.656528</td>\n",
              "      <td>9.360483</td>\n",
              "      <td>0.0</td>\n",
              "    </tr>\n",
              "    <tr>\n",
              "      <th>4</th>\n",
              "      <td>10.000000</td>\n",
              "      <td>10940.000</td>\n",
              "      <td>10.000</td>\n",
              "      <td>10.0</td>\n",
              "      <td>151.807013</td>\n",
              "      <td>166076.872711</td>\n",
              "      <td>353.855377</td>\n",
              "      <td>2.271227</td>\n",
              "      <td>-0.365117</td>\n",
              "      <td>-399.438525</td>\n",
              "      <td>2.019635</td>\n",
              "      <td>-2.866458</td>\n",
              "      <td>-9.406439</td>\n",
              "      <td>-10290.643753</td>\n",
              "      <td>-7.064984</td>\n",
              "      <td>-18.847833</td>\n",
              "      <td>-2.613639</td>\n",
              "      <td>-2859.321069</td>\n",
              "      <td>0.296381</td>\n",
              "      <td>-9.374869</td>\n",
              "      <td>-0.022884</td>\n",
              "      <td>-25.035151</td>\n",
              "      <td>0.438732</td>\n",
              "      <td>-0.420507</td>\n",
              "      <td>0.023232</td>\n",
              "      <td>25.415907</td>\n",
              "      <td>0.652628</td>\n",
              "      <td>-0.506531</td>\n",
              "      <td>-0.000376</td>\n",
              "      <td>-0.411573</td>\n",
              "      <td>0.505220</td>\n",
              "      <td>-0.348189</td>\n",
              "      <td>547.495430</td>\n",
              "      <td>598960.0</td>\n",
              "      <td>1094.0</td>\n",
              "      <td>0.0</td>\n",
              "      <td>6.150996</td>\n",
              "      <td>6729.190006</td>\n",
              "      <td>19.780001</td>\n",
              "      <td>0.0</td>\n",
              "    </tr>\n",
              "    <tr>\n",
              "      <th>6</th>\n",
              "      <td>4.586721</td>\n",
              "      <td>5022.460</td>\n",
              "      <td>12.000</td>\n",
              "      <td>3.0</td>\n",
              "      <td>197.812785</td>\n",
              "      <td>216605.000000</td>\n",
              "      <td>359.000000</td>\n",
              "      <td>0.000000</td>\n",
              "      <td>0.490616</td>\n",
              "      <td>537.224988</td>\n",
              "      <td>5.593026</td>\n",
              "      <td>-4.352792</td>\n",
              "      <td>9.538043</td>\n",
              "      <td>10444.157133</td>\n",
              "      <td>13.249917</td>\n",
              "      <td>6.469330</td>\n",
              "      <td>2.355059</td>\n",
              "      <td>2578.789598</td>\n",
              "      <td>7.977724</td>\n",
              "      <td>-2.140482</td>\n",
              "      <td>0.003877</td>\n",
              "      <td>4.245843</td>\n",
              "      <td>0.362202</td>\n",
              "      <td>-0.253551</td>\n",
              "      <td>0.000436</td>\n",
              "      <td>0.477217</td>\n",
              "      <td>0.532123</td>\n",
              "      <td>-0.621802</td>\n",
              "      <td>0.002930</td>\n",
              "      <td>3.207864</td>\n",
              "      <td>0.364534</td>\n",
              "      <td>-0.348345</td>\n",
              "      <td>547.000000</td>\n",
              "      <td>598965.0</td>\n",
              "      <td>1094.0</td>\n",
              "      <td>0.0</td>\n",
              "      <td>4.628921</td>\n",
              "      <td>5068.669039</td>\n",
              "      <td>16.394695</td>\n",
              "      <td>0.0</td>\n",
              "    </tr>\n",
              "  </tbody>\n",
              "</table>\n",
              "</div>"
            ],
            "text/plain": [
              "           Accuracy_mean  Accuracy_sum  ...  Speed_max  Speed_min\n",
              "bookingID                               ...                      \n",
              "0              10.165339     10206.000  ...  22.946083       -1.0\n",
              "1               3.718763      3164.667  ...  21.882141       -1.0\n",
              "2               3.930626       766.472  ...   9.360483        0.0\n",
              "4              10.000000     10940.000  ...  19.780001        0.0\n",
              "6               4.586721      5022.460  ...  16.394695        0.0\n",
              "\n",
              "[5 rows x 40 columns]"
            ]
          },
          "metadata": {
            "tags": []
          },
          "execution_count": 8
        }
      ]
    },
    {
      "cell_type": "code",
      "metadata": {
        "id": "Yf6zUJhhRZdd",
        "colab_type": "code",
        "colab": {}
      },
      "source": [
        "#Check bookingID row from label. Since features row and labels row are not in  the same length, we check if there is duplicate value in labels data\n",
        "\n",
        "labels[labels['bookingID'].duplicated(keep=False)]\n",
        "labels = labels.drop_duplicates(subset=['bookingID'], keep='first')"
      ],
      "execution_count": 0,
      "outputs": []
    },
    {
      "cell_type": "code",
      "metadata": {
        "id": "NE8U_43FR3Or",
        "colab_type": "code",
        "outputId": "a1337d9c-147b-4347-f25a-49da28b9802f",
        "colab": {
          "base_uri": "https://localhost:8080/",
          "height": 51
        }
      },
      "source": [
        "print(data.shape)\n",
        "print(labels.shape)"
      ],
      "execution_count": 0,
      "outputs": [
        {
          "output_type": "stream",
          "text": [
            "(20000, 40)\n",
            "(20000, 2)\n"
          ],
          "name": "stdout"
        }
      ]
    },
    {
      "cell_type": "code",
      "metadata": {
        "id": "t_k3JugYR6hl",
        "colab_type": "code",
        "outputId": "fb92c545-4796-494a-8a90-106449318a79",
        "colab": {
          "base_uri": "https://localhost:8080/",
          "height": 34
        }
      },
      "source": [
        "#Merge features and label data by bookingID\n",
        "data = pd.merge(data, labels, on=\"bookingID\")\n",
        "print(data.shape)"
      ],
      "execution_count": 0,
      "outputs": [
        {
          "output_type": "stream",
          "text": [
            "(20000, 42)\n"
          ],
          "name": "stdout"
        }
      ]
    },
    {
      "cell_type": "code",
      "metadata": {
        "id": "8HaIvpslSCmr",
        "colab_type": "code",
        "outputId": "d1396e38-0021-44d5-d394-88406af620b0",
        "colab": {
          "base_uri": "https://localhost:8080/",
          "height": 224
        }
      },
      "source": [
        "data.head()"
      ],
      "execution_count": 0,
      "outputs": [
        {
          "output_type": "execute_result",
          "data": {
            "text/html": [
              "<div>\n",
              "<style scoped>\n",
              "    .dataframe tbody tr th:only-of-type {\n",
              "        vertical-align: middle;\n",
              "    }\n",
              "\n",
              "    .dataframe tbody tr th {\n",
              "        vertical-align: top;\n",
              "    }\n",
              "\n",
              "    .dataframe thead th {\n",
              "        text-align: right;\n",
              "    }\n",
              "</style>\n",
              "<table border=\"1\" class=\"dataframe\">\n",
              "  <thead>\n",
              "    <tr style=\"text-align: right;\">\n",
              "      <th></th>\n",
              "      <th>bookingID</th>\n",
              "      <th>Accuracy_mean</th>\n",
              "      <th>Accuracy_sum</th>\n",
              "      <th>Accuracy_max</th>\n",
              "      <th>Accuracy_min</th>\n",
              "      <th>Bearing_mean</th>\n",
              "      <th>Bearing_sum</th>\n",
              "      <th>Bearing_max</th>\n",
              "      <th>Bearing_min</th>\n",
              "      <th>acceleration_x_mean</th>\n",
              "      <th>acceleration_x_sum</th>\n",
              "      <th>acceleration_x_max</th>\n",
              "      <th>acceleration_x_min</th>\n",
              "      <th>acceleration_y_mean</th>\n",
              "      <th>acceleration_y_sum</th>\n",
              "      <th>acceleration_y_max</th>\n",
              "      <th>acceleration_y_min</th>\n",
              "      <th>acceleration_z_mean</th>\n",
              "      <th>acceleration_z_sum</th>\n",
              "      <th>acceleration_z_max</th>\n",
              "      <th>acceleration_z_min</th>\n",
              "      <th>gyro_x_mean</th>\n",
              "      <th>gyro_x_sum</th>\n",
              "      <th>gyro_x_max</th>\n",
              "      <th>gyro_x_min</th>\n",
              "      <th>gyro_y_mean</th>\n",
              "      <th>gyro_y_sum</th>\n",
              "      <th>gyro_y_max</th>\n",
              "      <th>gyro_y_min</th>\n",
              "      <th>gyro_z_mean</th>\n",
              "      <th>gyro_z_sum</th>\n",
              "      <th>gyro_z_max</th>\n",
              "      <th>gyro_z_min</th>\n",
              "      <th>second_mean</th>\n",
              "      <th>second_sum</th>\n",
              "      <th>second_max</th>\n",
              "      <th>second_min</th>\n",
              "      <th>Speed_mean</th>\n",
              "      <th>Speed_sum</th>\n",
              "      <th>Speed_max</th>\n",
              "      <th>Speed_min</th>\n",
              "      <th>label</th>\n",
              "    </tr>\n",
              "  </thead>\n",
              "  <tbody>\n",
              "    <tr>\n",
              "      <th>0</th>\n",
              "      <td>0</td>\n",
              "      <td>10.165339</td>\n",
              "      <td>10206.000</td>\n",
              "      <td>48.000</td>\n",
              "      <td>4.0</td>\n",
              "      <td>176.526099</td>\n",
              "      <td>177232.203582</td>\n",
              "      <td>359.979767</td>\n",
              "      <td>0.037464</td>\n",
              "      <td>-0.711264</td>\n",
              "      <td>-714.108606</td>\n",
              "      <td>4.782614</td>\n",
              "      <td>-4.692294</td>\n",
              "      <td>-9.613822</td>\n",
              "      <td>-9652.277441</td>\n",
              "      <td>-6.119916</td>\n",
              "      <td>-12.764703</td>\n",
              "      <td>-1.619658</td>\n",
              "      <td>-1626.136658</td>\n",
              "      <td>2.318857</td>\n",
              "      <td>-6.251807</td>\n",
              "      <td>0.003328</td>\n",
              "      <td>3.340816</td>\n",
              "      <td>0.438371</td>\n",
              "      <td>-0.392537</td>\n",
              "      <td>-0.006118</td>\n",
              "      <td>-6.142259</td>\n",
              "      <td>0.469724</td>\n",
              "      <td>-0.609930</td>\n",
              "      <td>-0.004188</td>\n",
              "      <td>-4.204491</td>\n",
              "      <td>0.372807</td>\n",
              "      <td>-0.731892</td>\n",
              "      <td>903.526892</td>\n",
              "      <td>907141.0</td>\n",
              "      <td>1589.0</td>\n",
              "      <td>0.0</td>\n",
              "      <td>8.994822</td>\n",
              "      <td>9030.801222</td>\n",
              "      <td>22.946083</td>\n",
              "      <td>-1.0</td>\n",
              "      <td>0</td>\n",
              "    </tr>\n",
              "    <tr>\n",
              "      <th>1</th>\n",
              "      <td>1</td>\n",
              "      <td>3.718763</td>\n",
              "      <td>3164.667</td>\n",
              "      <td>7.709</td>\n",
              "      <td>3.0</td>\n",
              "      <td>124.198590</td>\n",
              "      <td>105693.000000</td>\n",
              "      <td>337.000000</td>\n",
              "      <td>0.000000</td>\n",
              "      <td>-0.525406</td>\n",
              "      <td>-447.120797</td>\n",
              "      <td>3.813341</td>\n",
              "      <td>-5.352994</td>\n",
              "      <td>9.532086</td>\n",
              "      <td>8111.805312</td>\n",
              "      <td>12.536156</td>\n",
              "      <td>6.623425</td>\n",
              "      <td>-2.198999</td>\n",
              "      <td>-1871.348183</td>\n",
              "      <td>1.481293</td>\n",
              "      <td>-5.355455</td>\n",
              "      <td>-0.002467</td>\n",
              "      <td>-2.099544</td>\n",
              "      <td>0.126536</td>\n",
              "      <td>-0.125367</td>\n",
              "      <td>-0.007540</td>\n",
              "      <td>-6.416598</td>\n",
              "      <td>0.470837</td>\n",
              "      <td>-0.678183</td>\n",
              "      <td>0.000405</td>\n",
              "      <td>0.344877</td>\n",
              "      <td>0.235131</td>\n",
              "      <td>-0.121265</td>\n",
              "      <td>581.175088</td>\n",
              "      <td>494580.0</td>\n",
              "      <td>1034.0</td>\n",
              "      <td>0.0</td>\n",
              "      <td>7.881588</td>\n",
              "      <td>6707.231233</td>\n",
              "      <td>21.882141</td>\n",
              "      <td>-1.0</td>\n",
              "      <td>1</td>\n",
              "    </tr>\n",
              "    <tr>\n",
              "      <th>2</th>\n",
              "      <td>2</td>\n",
              "      <td>3.930626</td>\n",
              "      <td>766.472</td>\n",
              "      <td>8.000</td>\n",
              "      <td>3.0</td>\n",
              "      <td>173.794872</td>\n",
              "      <td>33890.000000</td>\n",
              "      <td>354.000000</td>\n",
              "      <td>1.000000</td>\n",
              "      <td>0.306786</td>\n",
              "      <td>59.823351</td>\n",
              "      <td>1.956122</td>\n",
              "      <td>-2.971295</td>\n",
              "      <td>9.843183</td>\n",
              "      <td>1919.420684</td>\n",
              "      <td>13.333716</td>\n",
              "      <td>7.941810</td>\n",
              "      <td>0.139347</td>\n",
              "      <td>27.172626</td>\n",
              "      <td>2.312870</td>\n",
              "      <td>-3.282551</td>\n",
              "      <td>0.006458</td>\n",
              "      <td>1.259283</td>\n",
              "      <td>0.282162</td>\n",
              "      <td>-0.155218</td>\n",
              "      <td>-0.012861</td>\n",
              "      <td>-2.507892</td>\n",
              "      <td>0.431695</td>\n",
              "      <td>-0.462000</td>\n",
              "      <td>0.002597</td>\n",
              "      <td>0.506505</td>\n",
              "      <td>0.255884</td>\n",
              "      <td>-0.125907</td>\n",
              "      <td>339.441026</td>\n",
              "      <td>66191.0</td>\n",
              "      <td>825.0</td>\n",
              "      <td>0.0</td>\n",
              "      <td>3.157213</td>\n",
              "      <td>615.656528</td>\n",
              "      <td>9.360483</td>\n",
              "      <td>0.0</td>\n",
              "      <td>1</td>\n",
              "    </tr>\n",
              "    <tr>\n",
              "      <th>3</th>\n",
              "      <td>4</td>\n",
              "      <td>10.000000</td>\n",
              "      <td>10940.000</td>\n",
              "      <td>10.000</td>\n",
              "      <td>10.0</td>\n",
              "      <td>151.807013</td>\n",
              "      <td>166076.872711</td>\n",
              "      <td>353.855377</td>\n",
              "      <td>2.271227</td>\n",
              "      <td>-0.365117</td>\n",
              "      <td>-399.438525</td>\n",
              "      <td>2.019635</td>\n",
              "      <td>-2.866458</td>\n",
              "      <td>-9.406439</td>\n",
              "      <td>-10290.643753</td>\n",
              "      <td>-7.064984</td>\n",
              "      <td>-18.847833</td>\n",
              "      <td>-2.613639</td>\n",
              "      <td>-2859.321069</td>\n",
              "      <td>0.296381</td>\n",
              "      <td>-9.374869</td>\n",
              "      <td>-0.022884</td>\n",
              "      <td>-25.035151</td>\n",
              "      <td>0.438732</td>\n",
              "      <td>-0.420507</td>\n",
              "      <td>0.023232</td>\n",
              "      <td>25.415907</td>\n",
              "      <td>0.652628</td>\n",
              "      <td>-0.506531</td>\n",
              "      <td>-0.000376</td>\n",
              "      <td>-0.411573</td>\n",
              "      <td>0.505220</td>\n",
              "      <td>-0.348189</td>\n",
              "      <td>547.495430</td>\n",
              "      <td>598960.0</td>\n",
              "      <td>1094.0</td>\n",
              "      <td>0.0</td>\n",
              "      <td>6.150996</td>\n",
              "      <td>6729.190006</td>\n",
              "      <td>19.780001</td>\n",
              "      <td>0.0</td>\n",
              "      <td>1</td>\n",
              "    </tr>\n",
              "    <tr>\n",
              "      <th>4</th>\n",
              "      <td>6</td>\n",
              "      <td>4.586721</td>\n",
              "      <td>5022.460</td>\n",
              "      <td>12.000</td>\n",
              "      <td>3.0</td>\n",
              "      <td>197.812785</td>\n",
              "      <td>216605.000000</td>\n",
              "      <td>359.000000</td>\n",
              "      <td>0.000000</td>\n",
              "      <td>0.490616</td>\n",
              "      <td>537.224988</td>\n",
              "      <td>5.593026</td>\n",
              "      <td>-4.352792</td>\n",
              "      <td>9.538043</td>\n",
              "      <td>10444.157133</td>\n",
              "      <td>13.249917</td>\n",
              "      <td>6.469330</td>\n",
              "      <td>2.355059</td>\n",
              "      <td>2578.789598</td>\n",
              "      <td>7.977724</td>\n",
              "      <td>-2.140482</td>\n",
              "      <td>0.003877</td>\n",
              "      <td>4.245843</td>\n",
              "      <td>0.362202</td>\n",
              "      <td>-0.253551</td>\n",
              "      <td>0.000436</td>\n",
              "      <td>0.477217</td>\n",
              "      <td>0.532123</td>\n",
              "      <td>-0.621802</td>\n",
              "      <td>0.002930</td>\n",
              "      <td>3.207864</td>\n",
              "      <td>0.364534</td>\n",
              "      <td>-0.348345</td>\n",
              "      <td>547.000000</td>\n",
              "      <td>598965.0</td>\n",
              "      <td>1094.0</td>\n",
              "      <td>0.0</td>\n",
              "      <td>4.628921</td>\n",
              "      <td>5068.669039</td>\n",
              "      <td>16.394695</td>\n",
              "      <td>0.0</td>\n",
              "      <td>0</td>\n",
              "    </tr>\n",
              "  </tbody>\n",
              "</table>\n",
              "</div>"
            ],
            "text/plain": [
              "   bookingID  Accuracy_mean  Accuracy_sum  ...  Speed_max  Speed_min  label\n",
              "0          0      10.165339     10206.000  ...  22.946083       -1.0      0\n",
              "1          1       3.718763      3164.667  ...  21.882141       -1.0      1\n",
              "2          2       3.930626       766.472  ...   9.360483        0.0      1\n",
              "3          4      10.000000     10940.000  ...  19.780001        0.0      1\n",
              "4          6       4.586721      5022.460  ...  16.394695        0.0      0\n",
              "\n",
              "[5 rows x 42 columns]"
            ]
          },
          "metadata": {
            "tags": []
          },
          "execution_count": 12
        }
      ]
    },
    {
      "cell_type": "markdown",
      "metadata": {
        "id": "ybUxUIukSVVA",
        "colab_type": "text"
      },
      "source": [
        "**Visualize the Data**"
      ]
    },
    {
      "cell_type": "code",
      "metadata": {
        "id": "qbbE8nGTd_ri",
        "colab_type": "code",
        "outputId": "6ca12a8b-eddc-45b3-a6fa-55e5cb09cbc2",
        "colab": {
          "base_uri": "https://localhost:8080/",
          "height": 1000
        }
      },
      "source": [
        "#Visualizing \n",
        "fig, axes = plt.subplots(11, 4)\n",
        "fig.set_figheight(40)\n",
        "fig.set_figwidth(20)\n",
        "fig.subplots_adjust(hspace=0.4, wspace=0.4)\n",
        "\n",
        "for i in range(len(data.columns)):\n",
        "    row = i // 4\n",
        "    column = i % 4\n",
        "    sns.boxplot(data[data.columns[i]], ax=axes[row, column]).set_title(\"{}\".format(data.columns[i]))"
      ],
      "execution_count": 0,
      "outputs": [
        {
          "output_type": "display_data",
          "data": {
            "image/png": "[encoded data removed]",
            "text/plain": [
              "<Figure size 1440x2880 with 44 Axes>"
            ]
          },
          "metadata": {
            "tags": []
          }
        }
      ]
    },
    {
      "cell_type": "code",
      "metadata": {
        "id": "fEm_xqPVyoah",
        "colab_type": "code",
        "outputId": "f8761250-b8a0-4ccd-a6a4-a4a29676329d",
        "colab": {
          "base_uri": "https://localhost:8080/",
          "height": 296
        }
      },
      "source": [
        "sns.countplot('label', data=data, palette='coolwarm')"
      ],
      "execution_count": 0,
      "outputs": [
        {
          "output_type": "execute_result",
          "data": {
            "text/plain": [
              "<matplotlib.axes._subplots.AxesSubplot at 0x7fc878563e10>"
            ]
          },
          "metadata": {
            "tags": []
          },
          "execution_count": 14
        },
        {
          "output_type": "display_data",
          "data": {
            "image/png": "[encoded data removed]",
            "text/plain": [
              "<Figure size 432x288 with 1 Axes>"
            ]
          },
          "metadata": {
            "tags": []
          }
        }
      ]
    },
    {
      "cell_type": "markdown",
      "metadata": {
        "id": "JZQ4ZGpVxc7_",
        "colab_type": "text"
      },
      "source": [
        "**Feature Selection using 4 different methods**"
      ]
    },
    {
      "cell_type": "code",
      "metadata": {
        "id": "uJUy0lhXSbgQ",
        "colab_type": "code",
        "colab": {}
      },
      "source": [
        "X = data.iloc[:,1:41]  #independent columns\n",
        "y = data.iloc[:,-1]    #target columns"
      ],
      "execution_count": 0,
      "outputs": []
    },
    {
      "cell_type": "code",
      "metadata": {
        "id": "zj8DxrMb9Pvl",
        "colab_type": "code",
        "colab": {}
      },
      "source": [
        "feature_name = X.columns.tolist()"
      ],
      "execution_count": 0,
      "outputs": []
    },
    {
      "cell_type": "code",
      "metadata": {
        "id": "t0wkF6dD6aX-",
        "colab_type": "code",
        "outputId": "b4489909-46b7-4de5-d92b-6d794a6d48ab",
        "colab": {
          "base_uri": "https://localhost:8080/",
          "height": 428
        }
      },
      "source": [
        "#RFE Selection\n",
        "from sklearn.feature_selection import RFE\n",
        "from sklearn.linear_model import LogisticRegression\n",
        "rfe_selector = RFE(estimator=LogisticRegression(), n_features_to_select=10, step=10, verbose=5)\n",
        "rfe_selector.fit(X, y)\n",
        "rfe_support = rfe_selector.get_support()\n",
        "rfe_feature = X.loc[:,rfe_support].columns.tolist()\n",
        "print(str(len(rfe_feature)), 'selected features')\n",
        "\n",
        "#Linear Selection\n",
        "from sklearn.feature_selection import SelectFromModel\n",
        "from sklearn.linear_model import LogisticRegression\n",
        "\n",
        "embeded_lr_selector = SelectFromModel(LogisticRegression(penalty=\"l1\"), max_features=10)\n",
        "embeded_lr_selector.fit(X, y)\n",
        "\n",
        "embeded_lr_support = embeded_lr_selector.get_support()\n",
        "embeded_lr_feature = X.loc[:,embeded_lr_support].columns.tolist()\n",
        "print(str(len(embeded_lr_feature)), 'selected features')\n",
        "\n",
        "#Random Forest Selection\n",
        "from sklearn.feature_selection import SelectFromModel\n",
        "from sklearn.ensemble import RandomForestClassifier\n",
        "\n",
        "embeded_rf_selector = SelectFromModel(RandomForestClassifier(n_estimators=100), max_features=10)\n",
        "embeded_rf_selector.fit(X, y)\n",
        "\n",
        "embeded_rf_support = embeded_rf_selector.get_support()\n",
        "embeded_rf_feature = X.loc[:,embeded_rf_support].columns.tolist()\n",
        "print(str(len(embeded_rf_feature)), 'selected features')\n",
        "\n",
        "#LightGBM Selection\n",
        "from sklearn.feature_selection import SelectFromModel\n",
        "from lightgbm import LGBMClassifier\n",
        "lgbc=LGBMClassifier(n_estimators=500, learning_rate=0.05, num_leaves=32, colsample_bytree=0.2,\n",
        "            reg_alpha=3, reg_lambda=1, min_split_gain=0.01, min_child_weight=40)\n",
        "\n",
        "embeded_lgb_selector = SelectFromModel(lgbc, max_features=10)\n",
        "embeded_lgb_selector.fit(X, y)\n",
        "\n",
        "embeded_lgb_support = embeded_lgb_selector.get_support()\n",
        "embeded_lgb_feature = X.loc[:,embeded_lgb_support].columns.tolist()\n",
        "print(str(len(embeded_lgb_feature)), 'selected features')"
      ],
      "execution_count": 0,
      "outputs": [
        {
          "output_type": "stream",
          "text": [
            "Fitting estimator with 40 features.\n"
          ],
          "name": "stdout"
        },
        {
          "output_type": "stream",
          "text": [
            "/usr/local/lib/python3.6/dist-packages/sklearn/linear_model/logistic.py:432: FutureWarning: Default solver will be changed to 'lbfgs' in 0.22. Specify a solver to silence this warning.\n",
            "  FutureWarning)\n"
          ],
          "name": "stderr"
        },
        {
          "output_type": "stream",
          "text": [
            "Fitting estimator with 30 features.\n"
          ],
          "name": "stdout"
        },
        {
          "output_type": "stream",
          "text": [
            "/usr/local/lib/python3.6/dist-packages/sklearn/linear_model/logistic.py:432: FutureWarning: Default solver will be changed to 'lbfgs' in 0.22. Specify a solver to silence this warning.\n",
            "  FutureWarning)\n",
            "/usr/local/lib/python3.6/dist-packages/sklearn/svm/base.py:929: ConvergenceWarning: Liblinear failed to converge, increase the number of iterations.\n",
            "  \"the number of iterations.\", ConvergenceWarning)\n",
            "/usr/local/lib/python3.6/dist-packages/sklearn/linear_model/logistic.py:432: FutureWarning: Default solver will be changed to 'lbfgs' in 0.22. Specify a solver to silence this warning.\n",
            "  FutureWarning)\n"
          ],
          "name": "stderr"
        },
        {
          "output_type": "stream",
          "text": [
            "Fitting estimator with 20 features.\n"
          ],
          "name": "stdout"
        },
        {
          "output_type": "stream",
          "text": [
            "/usr/local/lib/python3.6/dist-packages/sklearn/svm/base.py:929: ConvergenceWarning: Liblinear failed to converge, increase the number of iterations.\n",
            "  \"the number of iterations.\", ConvergenceWarning)\n",
            "/usr/local/lib/python3.6/dist-packages/sklearn/linear_model/logistic.py:432: FutureWarning: Default solver will be changed to 'lbfgs' in 0.22. Specify a solver to silence this warning.\n",
            "  FutureWarning)\n"
          ],
          "name": "stderr"
        },
        {
          "output_type": "stream",
          "text": [
            "10 selected features\n"
          ],
          "name": "stdout"
        },
        {
          "output_type": "stream",
          "text": [
            "/usr/local/lib/python3.6/dist-packages/sklearn/linear_model/logistic.py:432: FutureWarning: Default solver will be changed to 'lbfgs' in 0.22. Specify a solver to silence this warning.\n",
            "  FutureWarning)\n",
            "/usr/local/lib/python3.6/dist-packages/sklearn/svm/base.py:929: ConvergenceWarning: Liblinear failed to converge, increase the number of iterations.\n",
            "  \"the number of iterations.\", ConvergenceWarning)\n"
          ],
          "name": "stderr"
        },
        {
          "output_type": "stream",
          "text": [
            "10 selected features\n",
            "10 selected features\n",
            "10 selected features\n"
          ],
          "name": "stdout"
        }
      ]
    },
    {
      "cell_type": "code",
      "metadata": {
        "id": "TDTNtVqe7hLD",
        "colab_type": "code",
        "outputId": "b4d46b28-b230-49ad-b6da-7366c65e2ea0",
        "colab": {
          "base_uri": "https://localhost:8080/",
          "height": 328
        }
      },
      "source": [
        "# Put all selection together\n",
        "feature_selection_df = pd.DataFrame({'Feature':feature_name, 'RFE':rfe_support, 'Logistics':embeded_lr_support,\n",
        "                                    'Random Forest':embeded_rf_support, 'LightGBM':embeded_lgb_support})\n",
        "# Count the selected times for each feature\n",
        "feature_selection_df['Total'] = np.sum(feature_selection_df, axis=1)\n",
        "# display the top 10\n",
        "feature_selection_df = feature_selection_df.sort_values(['Total', 'Feature'] , ascending=False)\n",
        "feature_selection_df.index = range(1, len(feature_selection_df)+1)\n",
        "feature_selection_df.head(9)"
      ],
      "execution_count": 0,
      "outputs": [
        {
          "output_type": "execute_result",
          "data": {
            "text/html": [
              "<div>\n",
              "<style scoped>\n",
              "    .dataframe tbody tr th:only-of-type {\n",
              "        vertical-align: middle;\n",
              "    }\n",
              "\n",
              "    .dataframe tbody tr th {\n",
              "        vertical-align: top;\n",
              "    }\n",
              "\n",
              "    .dataframe thead th {\n",
              "        text-align: right;\n",
              "    }\n",
              "</style>\n",
              "<table border=\"1\" class=\"dataframe\">\n",
              "  <thead>\n",
              "    <tr style=\"text-align: right;\">\n",
              "      <th></th>\n",
              "      <th>Feature</th>\n",
              "      <th>RFE</th>\n",
              "      <th>Logistics</th>\n",
              "      <th>Random Forest</th>\n",
              "      <th>LightGBM</th>\n",
              "      <th>Total</th>\n",
              "    </tr>\n",
              "  </thead>\n",
              "  <tbody>\n",
              "    <tr>\n",
              "      <th>1</th>\n",
              "      <td>Speed_mean</td>\n",
              "      <td>True</td>\n",
              "      <td>True</td>\n",
              "      <td>True</td>\n",
              "      <td>True</td>\n",
              "      <td>4</td>\n",
              "    </tr>\n",
              "    <tr>\n",
              "      <th>2</th>\n",
              "      <td>Speed_max</td>\n",
              "      <td>True</td>\n",
              "      <td>True</td>\n",
              "      <td>True</td>\n",
              "      <td>True</td>\n",
              "      <td>4</td>\n",
              "    </tr>\n",
              "    <tr>\n",
              "      <th>3</th>\n",
              "      <td>second_mean</td>\n",
              "      <td>True</td>\n",
              "      <td>False</td>\n",
              "      <td>True</td>\n",
              "      <td>True</td>\n",
              "      <td>3</td>\n",
              "    </tr>\n",
              "    <tr>\n",
              "      <th>4</th>\n",
              "      <td>Speed_sum</td>\n",
              "      <td>True</td>\n",
              "      <td>False</td>\n",
              "      <td>True</td>\n",
              "      <td>True</td>\n",
              "      <td>3</td>\n",
              "    </tr>\n",
              "    <tr>\n",
              "      <th>5</th>\n",
              "      <td>second_max</td>\n",
              "      <td>False</td>\n",
              "      <td>False</td>\n",
              "      <td>True</td>\n",
              "      <td>True</td>\n",
              "      <td>2</td>\n",
              "    </tr>\n",
              "    <tr>\n",
              "      <th>6</th>\n",
              "      <td>gyro_z_min</td>\n",
              "      <td>False</td>\n",
              "      <td>True</td>\n",
              "      <td>False</td>\n",
              "      <td>True</td>\n",
              "      <td>2</td>\n",
              "    </tr>\n",
              "    <tr>\n",
              "      <th>7</th>\n",
              "      <td>gyro_z_max</td>\n",
              "      <td>False</td>\n",
              "      <td>False</td>\n",
              "      <td>True</td>\n",
              "      <td>True</td>\n",
              "      <td>2</td>\n",
              "    </tr>\n",
              "    <tr>\n",
              "      <th>8</th>\n",
              "      <td>acceleration_z_max</td>\n",
              "      <td>False</td>\n",
              "      <td>True</td>\n",
              "      <td>True</td>\n",
              "      <td>False</td>\n",
              "      <td>2</td>\n",
              "    </tr>\n",
              "    <tr>\n",
              "      <th>9</th>\n",
              "      <td>acceleration_x_max</td>\n",
              "      <td>False</td>\n",
              "      <td>True</td>\n",
              "      <td>True</td>\n",
              "      <td>False</td>\n",
              "      <td>2</td>\n",
              "    </tr>\n",
              "  </tbody>\n",
              "</table>\n",
              "</div>"
            ],
            "text/plain": [
              "              Feature    RFE  Logistics  Random Forest  LightGBM  Total\n",
              "1          Speed_mean   True       True           True      True      4\n",
              "2           Speed_max   True       True           True      True      4\n",
              "3         second_mean   True      False           True      True      3\n",
              "4           Speed_sum   True      False           True      True      3\n",
              "5          second_max  False      False           True      True      2\n",
              "6          gyro_z_min  False       True          False      True      2\n",
              "7          gyro_z_max  False      False           True      True      2\n",
              "8  acceleration_z_max  False       True           True     False      2\n",
              "9  acceleration_x_max  False       True           True     False      2"
            ]
          },
          "metadata": {
            "tags": []
          },
          "execution_count": 77
        }
      ]
    },
    {
      "cell_type": "code",
      "metadata": {
        "id": "KuNZ89NiZ2Uc",
        "colab_type": "code",
        "colab": {}
      },
      "source": [
        "#Creating new table for selected features\n",
        "ft_df = feature_selection_df.head(9)"
      ],
      "execution_count": 0,
      "outputs": []
    },
    {
      "cell_type": "code",
      "metadata": {
        "id": "9II7u_-KZwEz",
        "colab_type": "code",
        "colab": {}
      },
      "source": [
        "#Dividing X and Y value\n",
        "Xnew = X[ft_df['Feature']]\n",
        "y = y"
      ],
      "execution_count": 0,
      "outputs": []
    },
    {
      "cell_type": "code",
      "metadata": {
        "id": "RowD4cWefcIp",
        "colab_type": "code",
        "colab": {}
      },
      "source": [
        "from sklearn.model_selection import train_test_split\n",
        "from sklearn.linear_model import LogisticRegression\n",
        "from sklearn.neighbors import KNeighborsClassifier\n",
        "from sklearn.naive_bayes import BernoulliNB\n",
        "from sklearn.tree import DecisionTreeClassifier\n",
        "from sklearn.ensemble import RandomForestClassifier\n",
        "from sklearn.metrics import mean_squared_error,confusion_matrix, precision_score, recall_score, auc,roc_curve, classification_report\n",
        "\n",
        "Xnew_train, Xnew_test, y_train, y_test = train_test_split(Xnew, y, test_size=0.3, random_state=101)"
      ],
      "execution_count": 0,
      "outputs": []
    },
    {
      "cell_type": "code",
      "metadata": {
        "id": "ypW6AZTOfecm",
        "colab_type": "code",
        "outputId": "3eedde64-917e-490b-8f35-bd224ae173ac",
        "colab": {
          "base_uri": "https://localhost:8080/",
          "height": 1000
        }
      },
      "source": [
        "#Logistic Regression\n",
        "logreg = LogisticRegression()\n",
        "logreg.fit(Xnew_train,y_train)\n",
        "\n",
        "predict_lr = logreg.predict(Xnew_test)\n",
        "print('Logistic Regression')\n",
        "print(classification_report(y_test, predict_lr))\n",
        "print(confusion_matrix(y_test, predict_lr))\n",
        "\n",
        "#KNN Classifier\n",
        "knn = KNeighborsClassifier()\n",
        "knn.fit(Xnew_train,y_train)\n",
        "\n",
        "predict_knn = knn.predict(Xnew_test)\n",
        "print('KNN Classifier')\n",
        "print(classification_report(y_test, predict_knn))\n",
        "print(confusion_matrix(y_test, predict_knn))\n",
        "\n",
        "#Naive Bayes\n",
        "nb = BernoulliNB()\n",
        "nb.fit(Xnew_train, y_train)\n",
        "\n",
        "predict_nb = nb.predict(Xnew_test)\n",
        "print('Naive Bayes')\n",
        "print(classification_report(y_test, predict_nb))\n",
        "print(confusion_matrix(y_test, predict_nb))\n",
        "\n",
        "#Decision Tree\n",
        "dt = DecisionTreeClassifier()\n",
        "dt.fit(Xnew_train, y_train)\n",
        "\n",
        "predict_dt = dt.predict(Xnew_test)\n",
        "print('Decision Tree')\n",
        "print(classification_report(y_test, predict_dt))\n",
        "print(confusion_matrix(y_test, predict_dt))\n",
        "\n",
        "#Random Forest\n",
        "rf = RandomForestClassifier()\n",
        "rf.fit(Xnew_train, y_train)\n",
        "\n",
        "predict_rf = rf.predict(Xnew_test)\n",
        "print('Random Forest Classifier')\n",
        "print(classification_report(y_test, predict_rf))\n",
        "print(confusion_matrix(y_test, predict_rf))"
      ],
      "execution_count": 0,
      "outputs": [
        {
          "output_type": "stream",
          "text": [
            "/usr/local/lib/python3.6/dist-packages/sklearn/linear_model/logistic.py:432: FutureWarning: Default solver will be changed to 'lbfgs' in 0.22. Specify a solver to silence this warning.\n",
            "  FutureWarning)\n"
          ],
          "name": "stderr"
        },
        {
          "output_type": "stream",
          "text": [
            "Logistic Regression\n",
            "              precision    recall  f1-score   support\n",
            "\n",
            "           0       0.75      1.00      0.86      4486\n",
            "           1       0.85      0.03      0.07      1514\n",
            "\n",
            "    accuracy                           0.75      6000\n",
            "   macro avg       0.80      0.52      0.46      6000\n",
            "weighted avg       0.78      0.75      0.66      6000\n",
            "\n",
            "[[4477    9]\n",
            " [1462   52]]\n",
            "KNN Classifier\n",
            "              precision    recall  f1-score   support\n",
            "\n",
            "           0       0.78      0.90      0.84      4486\n",
            "           1       0.47      0.26      0.34      1514\n",
            "\n",
            "    accuracy                           0.74      6000\n",
            "   macro avg       0.63      0.58      0.59      6000\n",
            "weighted avg       0.70      0.74      0.71      6000\n",
            "\n",
            "[[4038  448]\n",
            " [1118  396]]\n",
            "Naive Bayes\n",
            "              precision    recall  f1-score   support\n",
            "\n",
            "           0       0.75      1.00      0.86      4486\n",
            "           1       0.54      0.00      0.01      1514\n",
            "\n",
            "    accuracy                           0.75      6000\n",
            "   macro avg       0.64      0.50      0.43      6000\n",
            "weighted avg       0.70      0.75      0.64      6000\n",
            "\n",
            "[[4480    6]\n",
            " [1507    7]]\n",
            "Decision Tree\n",
            "              precision    recall  f1-score   support\n",
            "\n",
            "           0       0.79      0.78      0.79      4486\n",
            "           1       0.37      0.38      0.38      1514\n",
            "\n",
            "    accuracy                           0.68      6000\n",
            "   macro avg       0.58      0.58      0.58      6000\n",
            "weighted avg       0.68      0.68      0.68      6000\n",
            "\n",
            "[[3510  976]\n",
            " [ 939  575]]\n"
          ],
          "name": "stdout"
        },
        {
          "output_type": "stream",
          "text": [
            "/usr/local/lib/python3.6/dist-packages/sklearn/ensemble/forest.py:245: FutureWarning: The default value of n_estimators will change from 10 in version 0.20 to 100 in 0.22.\n",
            "  \"10 in version 0.20 to 100 in 0.22.\", FutureWarning)\n"
          ],
          "name": "stderr"
        },
        {
          "output_type": "stream",
          "text": [
            "Random Forest Classifier\n",
            "              precision    recall  f1-score   support\n",
            "\n",
            "           0       0.78      0.94      0.86      4486\n",
            "           1       0.57      0.23      0.33      1514\n",
            "\n",
            "    accuracy                           0.76      6000\n",
            "   macro avg       0.68      0.59      0.59      6000\n",
            "weighted avg       0.73      0.76      0.72      6000\n",
            "\n",
            "[[4221  265]\n",
            " [1165  349]]\n"
          ],
          "name": "stdout"
        }
      ]
    },
    {
      "cell_type": "markdown",
      "metadata": {
        "id": "MO8NRAeNygzm",
        "colab_type": "text"
      },
      "source": [
        "**IMPORT SKLEARN LIBRARIES FOR MODELING**"
      ]
    },
    {
      "cell_type": "code",
      "metadata": {
        "id": "evMMY7EHGhr-",
        "colab_type": "code",
        "colab": {}
      },
      "source": [
        "from sklearn.metrics import mean_squared_error,confusion_matrix, precision_score, recall_score, f1_score, auc,roc_auc_score\n",
        "from sklearn import ensemble, linear_model, neighbors, svm, tree, neural_network\n",
        "from sklearn.pipeline import make_pipeline\n",
        "from sklearn.linear_model import Ridge\n",
        "from sklearn.preprocessing import PolynomialFeatures\n",
        "from sklearn import svm,model_selection, tree, linear_model, neighbors, naive_bayes, ensemble, discriminant_analysis, gaussian_process\n",
        "\n",
        "Xnew_train, Xnew_test, y_train, y_test = train_test_split(Xnew, y, test_size=0.3, random_state=101)"
      ],
      "execution_count": 0,
      "outputs": []
    },
    {
      "cell_type": "code",
      "metadata": {
        "id": "1evlteoxFJYs",
        "colab_type": "code",
        "colab": {}
      },
      "source": [
        "MLA = [\n",
        "    #Ensemble Methods\n",
        "    ensemble.RandomForestClassifier(),\n",
        "    #GLM\n",
        "    linear_model.LogisticRegression(),\n",
        "    #Navies Bayes\n",
        "    naive_bayes.BernoulliNB(),\n",
        "    #Nearest Neighbor\n",
        "    neighbors.KNeighborsClassifier(n_neighbors=10),\n",
        "    #Trees    \n",
        "    tree.DecisionTreeClassifier()\n",
        "    ]\n"
      ],
      "execution_count": 0,
      "outputs": []
    },
    {
      "cell_type": "code",
      "metadata": {
        "id": "A0bp8OTW_50P",
        "colab_type": "code",
        "outputId": "4d4e903d-bf31-406f-e93f-42e12cd00670",
        "colab": {
          "base_uri": "https://localhost:8080/",
          "height": 258
        }
      },
      "source": [
        "MLA_columns = []\n",
        "MLA_compare = pd.DataFrame(columns = MLA_columns)\n",
        "\n",
        "\n",
        "row_index = 0\n",
        "for alg in MLA:\n",
        "    \n",
        "    \n",
        "    predicted = alg.fit(Xnew_train, y_train).predict(Xnew_test)\n",
        "    fp, tp, th = roc_curve(y_test, predicted)\n",
        "    MLA_name = alg.__class__.__name__\n",
        "    MLA_compare.loc[row_index,'MLA Name'] = MLA_name\n",
        "    MLA_compare.loc[row_index, 'MLA Train Accuracy'] = round(alg.score(Xnew_train, y_train), 4)\n",
        "    MLA_compare.loc[row_index, 'MLA Test Accuracy'] = round(alg.score(Xnew_test, y_test), 4)\n",
        "    MLA_compare.loc[row_index, 'MLA Precision'] = precision_score(y_test, predicted)\n",
        "    MLA_compare.loc[row_index, 'MLA Recall'] = recall_score(y_test, predicted)\n",
        "    MLA_compare.loc[row_index, 'MLA ROC-AUC'] = roc_auc_score(y_test, predicted)\n",
        "\n",
        "    row_index+=1\n",
        "    \n",
        "MLA_compare.sort_values(by = ['MLA ROC-AUC'], ascending = False, inplace = True)    \n",
        "MLA_compare"
      ],
      "execution_count": 0,
      "outputs": [
        {
          "output_type": "stream",
          "text": [
            "/usr/local/lib/python3.6/dist-packages/sklearn/linear_model/logistic.py:432: FutureWarning: Default solver will be changed to 'lbfgs' in 0.22. Specify a solver to silence this warning.\n",
            "  FutureWarning)\n"
          ],
          "name": "stderr"
        },
        {
          "output_type": "execute_result",
          "data": {
            "text/html": [
              "<div>\n",
              "<style scoped>\n",
              "    .dataframe tbody tr th:only-of-type {\n",
              "        vertical-align: middle;\n",
              "    }\n",
              "\n",
              "    .dataframe tbody tr th {\n",
              "        vertical-align: top;\n",
              "    }\n",
              "\n",
              "    .dataframe thead th {\n",
              "        text-align: right;\n",
              "    }\n",
              "</style>\n",
              "<table border=\"1\" class=\"dataframe\">\n",
              "  <thead>\n",
              "    <tr style=\"text-align: right;\">\n",
              "      <th></th>\n",
              "      <th>MLA Name</th>\n",
              "      <th>MLA Train Accuracy</th>\n",
              "      <th>MLA Test Accuracy</th>\n",
              "      <th>MLA Precision</th>\n",
              "      <th>MLA Recall</th>\n",
              "      <th>MLA ROC-AUC</th>\n",
              "    </tr>\n",
              "  </thead>\n",
              "  <tbody>\n",
              "    <tr>\n",
              "      <th>0</th>\n",
              "      <td>RandomForestClassifier</td>\n",
              "      <td>0.9765</td>\n",
              "      <td>0.7620</td>\n",
              "      <td>0.568690</td>\n",
              "      <td>0.235139</td>\n",
              "      <td>0.587476</td>\n",
              "    </tr>\n",
              "    <tr>\n",
              "      <th>4</th>\n",
              "      <td>DecisionTreeClassifier</td>\n",
              "      <td>1.0000</td>\n",
              "      <td>0.6815</td>\n",
              "      <td>0.373001</td>\n",
              "      <td>0.385073</td>\n",
              "      <td>0.583308</td>\n",
              "    </tr>\n",
              "    <tr>\n",
              "      <th>3</th>\n",
              "      <td>KNeighborsClassifier</td>\n",
              "      <td>0.7887</td>\n",
              "      <td>0.7600</td>\n",
              "      <td>0.580087</td>\n",
              "      <td>0.177015</td>\n",
              "      <td>0.566884</td>\n",
              "    </tr>\n",
              "    <tr>\n",
              "      <th>1</th>\n",
              "      <td>LogisticRegression</td>\n",
              "      <td>0.7565</td>\n",
              "      <td>0.7548</td>\n",
              "      <td>0.852459</td>\n",
              "      <td>0.034346</td>\n",
              "      <td>0.516170</td>\n",
              "    </tr>\n",
              "    <tr>\n",
              "      <th>2</th>\n",
              "      <td>BernoulliNB</td>\n",
              "      <td>0.7516</td>\n",
              "      <td>0.7478</td>\n",
              "      <td>0.538462</td>\n",
              "      <td>0.004624</td>\n",
              "      <td>0.501643</td>\n",
              "    </tr>\n",
              "  </tbody>\n",
              "</table>\n",
              "</div>"
            ],
            "text/plain": [
              "                 MLA Name  MLA Train Accuracy  ...  MLA Recall  MLA ROC-AUC\n",
              "0  RandomForestClassifier              0.9765  ...    0.235139     0.587476\n",
              "4  DecisionTreeClassifier              1.0000  ...    0.385073     0.583308\n",
              "3    KNeighborsClassifier              0.7887  ...    0.177015     0.566884\n",
              "1      LogisticRegression              0.7565  ...    0.034346     0.516170\n",
              "2             BernoulliNB              0.7516  ...    0.004624     0.501643\n",
              "\n",
              "[5 rows x 6 columns]"
            ]
          },
          "metadata": {
            "tags": []
          },
          "execution_count": 86
        }
      ]
    },
    {
      "cell_type": "code",
      "metadata": {
        "id": "l6U22zYqGwpw",
        "colab_type": "code",
        "outputId": "ebd428b9-21e3-4cfb-b565-d38d2a18f4b3",
        "colab": {
          "base_uri": "https://localhost:8080/",
          "height": 513
        }
      },
      "source": [
        "plt.subplots(figsize=(15,6))\n",
        "sns.barplot(x=\"MLA Name\", y=\"MLA Train Accuracy\",data=MLA_compare,palette='hot',edgecolor=sns.color_palette('dark',7))\n",
        "plt.xticks(rotation=90)\n",
        "plt.title('MLA Train Accuracy Comparison')\n",
        "plt.show()"
      ],
      "execution_count": 0,
      "outputs": [
        {
          "output_type": "display_data",
          "data": {
            "image/png": "[encoded data removed]",
            "text/plain": [
              "<Figure size 1080x432 with 1 Axes>"
            ]
          },
          "metadata": {
            "tags": []
          }
        }
      ]
    },
    {
      "cell_type": "code",
      "metadata": {
        "id": "LhPFJ5DGG6nF",
        "colab_type": "code",
        "outputId": "34d0be61-7d04-4ffa-a29c-ec51dbbecfeb",
        "colab": {
          "base_uri": "https://localhost:8080/",
          "height": 513
        }
      },
      "source": [
        "plt.subplots(figsize=(15,6))\n",
        "sns.barplot(x=\"MLA Name\", y=\"MLA Test Accuracy\",data=MLA_compare,palette='hot',edgecolor=sns.color_palette('dark',7))\n",
        "plt.xticks(rotation=90)\n",
        "plt.title('MLA Test Accuracy Comparison')\n",
        "plt.show()"
      ],
      "execution_count": 0,
      "outputs": [
        {
          "output_type": "display_data",
          "data": {
            "image/png": "[encoded data removed]",
            "text/plain": [
              "<Figure size 1080x432 with 1 Axes>"
            ]
          },
          "metadata": {
            "tags": []
          }
        }
      ]
    },
    {
      "cell_type": "code",
      "metadata": {
        "id": "PHNqomtaHYZI",
        "colab_type": "code",
        "outputId": "63d513ef-c644-4ef4-a698-defa394af6ac",
        "colab": {
          "base_uri": "https://localhost:8080/",
          "height": 513
        }
      },
      "source": [
        "plt.subplots(figsize=(15,6))\n",
        "sns.barplot(x=\"MLA Name\", y=\"MLA Precision\",data=MLA_compare,palette='hot',edgecolor=sns.color_palette('dark',7))\n",
        "plt.xticks(rotation=90)\n",
        "plt.title('MLA Precission Comparison')\n",
        "plt.show()"
      ],
      "execution_count": 0,
      "outputs": [
        {
          "output_type": "display_data",
          "data": {
            "image/png": "[encoded data removed]",
            "text/plain": [
              "<Figure size 1080x432 with 1 Axes>"
            ]
          },
          "metadata": {
            "tags": []
          }
        }
      ]
    },
    {
      "cell_type": "code",
      "metadata": {
        "id": "vugAeKEQHkS_",
        "colab_type": "code",
        "outputId": "5a2d700b-174d-4bbd-b27a-da5ce71f3896",
        "colab": {
          "base_uri": "https://localhost:8080/",
          "height": 513
        }
      },
      "source": [
        "plt.subplots(figsize=(15,6))\n",
        "sns.barplot(x=\"MLA Name\", y=\"MLA Recall\",data=MLA_compare,palette='hot',edgecolor=sns.color_palette('dark',7))\n",
        "plt.xticks(rotation=90)\n",
        "plt.title('MLA Recall Comparison')\n",
        "plt.show()"
      ],
      "execution_count": 0,
      "outputs": [
        {
          "output_type": "display_data",
          "data": {
            "image/png": "[encoded data removed]",
            "text/plain": [
              "<Figure size 1080x432 with 1 Axes>"
            ]
          },
          "metadata": {
            "tags": []
          }
        }
      ]
    },
    {
      "cell_type": "code",
      "metadata": {
        "id": "5rc5y6azHkwZ",
        "colab_type": "code",
        "outputId": "29ecb45a-80f7-4405-e4d8-6d05ffd26874",
        "colab": {
          "base_uri": "https://localhost:8080/",
          "height": 513
        }
      },
      "source": [
        "plt.subplots(figsize=(15,6))\n",
        "sns.barplot(x=\"MLA Name\", y=\"MLA ROC-AUC\",data=MLA_compare,palette='hot',edgecolor=sns.color_palette('dark',7))\n",
        "plt.xticks(rotation=90)\n",
        "plt.title('MLA ROC-AUC Comparison')\n",
        "plt.show()"
      ],
      "execution_count": 0,
      "outputs": [
        {
          "output_type": "display_data",
          "data": {
            "image/png": "[encoded data removed]",
            "text/plain": [
              "<Figure size 1080x432 with 1 Axes>"
            ]
          },
          "metadata": {
            "tags": []
          }
        }
      ]
    },
    {
      "cell_type": "markdown",
      "metadata": {
        "id": "LH1LGdB7yLds",
        "colab_type": "text"
      },
      "source": [
        "**RESAMPLING THE DATA**"
      ]
    },
    {
      "cell_type": "code",
      "metadata": {
        "id": "-NeN13GoHnTR",
        "colab_type": "code",
        "outputId": "bd6e3e0d-84ca-45f8-fc0f-5d7befa60202",
        "colab": {
          "base_uri": "https://localhost:8080/",
          "height": 85
        }
      },
      "source": [
        "print(\"Number  X_train dataset: \", Xnew_train.shape)\n",
        "print(\"Number  y_train dataset: \", y_train.shape)\n",
        "print(\"Number  X_test dataset: \", Xnew_test.shape)\n",
        "print(\"Number  y_test dataset: \", y_test.shape)"
      ],
      "execution_count": 0,
      "outputs": [
        {
          "output_type": "stream",
          "text": [
            "Number transactions X_train dataset:  (14000, 9)\n",
            "Number transactions y_train dataset:  (14000,)\n",
            "Number transactions X_test dataset:  (6000, 9)\n",
            "Number transactions y_test dataset:  (6000,)\n"
          ],
          "name": "stdout"
        }
      ]
    },
    {
      "cell_type": "code",
      "metadata": {
        "id": "J_gV8xgg-_IZ",
        "colab_type": "code",
        "outputId": "6c856bc6-197e-4a16-aca0-0fc5ad153492",
        "colab": {
          "base_uri": "https://localhost:8080/",
          "height": 102
        }
      },
      "source": [
        "from imblearn.over_sampling import SMOTE\n",
        "\n",
        "print(\"Before Sampling, counts of label '1': {}\".format(sum(y_train==1)))\n",
        "print(\"Before Sampling, counts of label '0': {} \\n\".format(sum(y_train==0)))\n",
        "\n",
        "sm = SMOTE(random_state=2)\n",
        "X_train_res, y_train_res = sm.fit_sample(Xnew_train, y_train.ravel())\n",
        "\n",
        "print(\"After Sampling, counts of label '1': {}\".format(sum(y_train_res==1)))\n",
        "print(\"After Sampling, counts of label '0': {}\".format(sum(y_train_res==0)))"
      ],
      "execution_count": 0,
      "outputs": [
        {
          "output_type": "stream",
          "text": [
            "Before Sampling, counts of label '1': 3479\n",
            "Before Sampling, counts of label '0': 10521 \n",
            "\n",
            "After Sampling, counts of label '1': 10521\n",
            "After Sampling, counts of label '0': 10521\n"
          ],
          "name": "stdout"
        }
      ]
    },
    {
      "cell_type": "code",
      "metadata": {
        "id": "bc7B1RJ1uI74",
        "colab_type": "code",
        "outputId": "ddab7adb-1088-405e-8c41-0e3d68c63a58",
        "colab": {
          "base_uri": "https://localhost:8080/",
          "height": 1000
        }
      },
      "source": [
        "#Logistic Regression\n",
        "logreg = LogisticRegression()\n",
        "logreg.fit(X_train_res,y_train_res)\n",
        "\n",
        "predict_lr_res = logreg.predict(Xnew_test)\n",
        "\n",
        "print('Logistic Regression')\n",
        "print(classification_report(y_test, predict_lr_res))\n",
        "print(confusion_matrix(y_test, predict_lr_res))\n",
        "\n",
        "#KNN Classifier\n",
        "knn = KNeighborsClassifier()\n",
        "knn.fit(X_train_res,y_train_res)\n",
        "\n",
        "predict_knn_res = knn.predict(Xnew_test)\n",
        "print('KNN Classifier')\n",
        "print(classification_report(y_test, predict_knn_res))\n",
        "print(confusion_matrix(y_test, predict_knn_res))\n",
        "\n",
        "#Naive Bayes\n",
        "nb = BernoulliNB()\n",
        "nb.fit(X_train_res,y_train_res)\n",
        "\n",
        "predict_nb_res = nb.predict(Xnew_test)\n",
        "print('Naive Bayes')\n",
        "print(classification_report(y_test, predict_nb_res))\n",
        "print(confusion_matrix(y_test, predict_nb_res))\n",
        "\n",
        "#Decision Tree\n",
        "dt = DecisionTreeClassifier()\n",
        "dt.fit(X_train_res,y_train_res)\n",
        "\n",
        "predict_dt_res = dt.predict(Xnew_test)\n",
        "print('Decision Tree')\n",
        "print(classification_report(y_test, predict_dt_res))\n",
        "print(confusion_matrix(y_test, predict_dt_res))\n",
        "\n",
        "#Random Forest\n",
        "rf = RandomForestClassifier()\n",
        "rf.fit(X_train_res,y_train_res)\n",
        "\n",
        "predict_rf_res = rf.predict(Xnew_test)\n",
        "print('Random Forest Classifier')\n",
        "print(classification_report(y_test, predict_rf_res))\n",
        "print(confusion_matrix(y_test, predict_rf_res))\n",
        "\n"
      ],
      "execution_count": 0,
      "outputs": [
        {
          "output_type": "stream",
          "text": [
            "/usr/local/lib/python3.6/dist-packages/sklearn/linear_model/logistic.py:432: FutureWarning: Default solver will be changed to 'lbfgs' in 0.22. Specify a solver to silence this warning.\n",
            "  FutureWarning)\n"
          ],
          "name": "stderr"
        },
        {
          "output_type": "stream",
          "text": [
            "Logistic Regression\n",
            "              precision    recall  f1-score   support\n",
            "\n",
            "           0       0.83      0.63      0.72      4486\n",
            "           1       0.36      0.63      0.46      1514\n",
            "\n",
            "    accuracy                           0.63      6000\n",
            "   macro avg       0.60      0.63      0.59      6000\n",
            "weighted avg       0.71      0.63      0.65      6000\n",
            "\n",
            "[[2821 1665]\n",
            " [ 567  947]]\n",
            "KNN Classifier\n",
            "              precision    recall  f1-score   support\n",
            "\n",
            "           0       0.80      0.65      0.72      4486\n",
            "           1       0.34      0.53      0.41      1514\n",
            "\n",
            "    accuracy                           0.62      6000\n",
            "   macro avg       0.57      0.59      0.56      6000\n",
            "weighted avg       0.69      0.62      0.64      6000\n",
            "\n",
            "[[2912 1574]\n",
            " [ 716  798]]\n",
            "Naive Bayes\n",
            "              precision    recall  f1-score   support\n",
            "\n",
            "           0       0.76      0.06      0.11      4486\n",
            "           1       0.25      0.94      0.40      1514\n",
            "\n",
            "    accuracy                           0.28      6000\n",
            "   macro avg       0.51      0.50      0.26      6000\n",
            "weighted avg       0.63      0.28      0.19      6000\n",
            "\n",
            "[[ 278 4208]\n",
            " [  87 1427]]\n",
            "Decision Tree\n",
            "              precision    recall  f1-score   support\n",
            "\n",
            "           0       0.80      0.68      0.73      4486\n",
            "           1       0.34      0.49      0.40      1514\n",
            "\n",
            "    accuracy                           0.63      6000\n",
            "   macro avg       0.57      0.58      0.57      6000\n",
            "weighted avg       0.68      0.63      0.65      6000\n",
            "\n",
            "[[3043 1443]\n",
            " [ 779  735]]\n"
          ],
          "name": "stdout"
        },
        {
          "output_type": "stream",
          "text": [
            "/usr/local/lib/python3.6/dist-packages/sklearn/ensemble/forest.py:245: FutureWarning: The default value of n_estimators will change from 10 in version 0.20 to 100 in 0.22.\n",
            "  \"10 in version 0.20 to 100 in 0.22.\", FutureWarning)\n"
          ],
          "name": "stderr"
        },
        {
          "output_type": "stream",
          "text": [
            "Random Forest Classifier\n",
            "              precision    recall  f1-score   support\n",
            "\n",
            "           0       0.80      0.80      0.80      4486\n",
            "           1       0.42      0.42      0.42      1514\n",
            "\n",
            "    accuracy                           0.70      6000\n",
            "   macro avg       0.61      0.61      0.61      6000\n",
            "weighted avg       0.71      0.70      0.70      6000\n",
            "\n",
            "[[3595  891]\n",
            " [ 881  633]]\n"
          ],
          "name": "stdout"
        }
      ]
    },
    {
      "cell_type": "code",
      "metadata": {
        "id": "3H3ncN1sAVNC",
        "colab_type": "code",
        "colab": {}
      },
      "source": [
        "'''MLA_columns = []\n",
        "MLA_compare = pd.DataFrame(columns = MLA_columns)\n",
        "\n",
        "\n",
        "row_index = 0\n",
        "for alg in MLA:\n",
        "    \n",
        "    \n",
        "    predicted = alg.fit(X_res_train, y_res_train).predict(X_res_test)\n",
        "    fp, tp, th = roc_curve(y_res_test, predicted)\n",
        "    MLA_name = alg.__class__.__name__\n",
        "    MLA_compare.loc[row_index,'MLA Name'] = MLA_name\n",
        "    MLA_compare.loc[row_index, 'MLA Train Accuracy'] = round(alg.score(X_res_train, y_res_train), 4)\n",
        "    MLA_compare.loc[row_index, 'MLA Test Accuracy'] = round(alg.score(X_res_test, y_res_test), 4)\n",
        "    MLA_compare.loc[row_index, 'MLA Precision'] = precision_score(y_res_test, predicted)\n",
        "    MLA_compare.loc[row_index, 'MLA Recall'] = recall_score(y_res_test, predicted)\n",
        "    MLA_compare.loc[row_index, 'MLA AUC'] = auc(fp, tp)\n",
        "\n",
        "    row_index+=1\n",
        "    \n",
        "MLA_compare.sort_values(by = ['MLA Test Accuracy'], ascending = False, inplace = True)    \n",
        "MLA_compare'''"
      ],
      "execution_count": 0,
      "outputs": []
    },
    {
      "cell_type": "code",
      "metadata": {
        "id": "ofnSWqu_BV2P",
        "colab_type": "code",
        "colab": {}
      },
      "source": [
        "#sns.countplot(y_res_test)"
      ],
      "execution_count": 0,
      "outputs": []
    },
    {
      "cell_type": "code",
      "metadata": {
        "id": "IL1h7lnZBW_M",
        "colab_type": "code",
        "outputId": "8b2b324b-a20d-4401-f140-0b05428b422a",
        "colab": {
          "base_uri": "https://localhost:8080/",
          "height": 80
        }
      },
      "source": [
        "Xbaru = pd.read_csv('databaru.txt', sep=',')\n",
        "Xbaru"
      ],
      "execution_count": 0,
      "outputs": [
        {
          "output_type": "execute_result",
          "data": {
            "text/html": [
              "<div>\n",
              "<style scoped>\n",
              "    .dataframe tbody tr th:only-of-type {\n",
              "        vertical-align: middle;\n",
              "    }\n",
              "\n",
              "    .dataframe tbody tr th {\n",
              "        vertical-align: top;\n",
              "    }\n",
              "\n",
              "    .dataframe thead th {\n",
              "        text-align: right;\n",
              "    }\n",
              "</style>\n",
              "<table border=\"1\" class=\"dataframe\">\n",
              "  <thead>\n",
              "    <tr style=\"text-align: right;\">\n",
              "      <th></th>\n",
              "      <th>Speed_mean</th>\n",
              "      <th>Speed_max</th>\n",
              "      <th>second_mean</th>\n",
              "      <th>Speed_sum</th>\n",
              "      <th>second_max</th>\n",
              "      <th>gyro_z_min</th>\n",
              "      <th>gyro_z_max</th>\n",
              "      <th>acceleration_z_max</th>\n",
              "      <th>acceleration_x_max</th>\n",
              "    </tr>\n",
              "  </thead>\n",
              "  <tbody>\n",
              "    <tr>\n",
              "      <th>0</th>\n",
              "      <td>10.661912</td>\n",
              "      <td>15.02</td>\n",
              "      <td>374.652233</td>\n",
              "      <td>5237.216056</td>\n",
              "      <td>1350.0</td>\n",
              "      <td>-0.399642</td>\n",
              "      <td>0.172294</td>\n",
              "      <td>10.989721</td>\n",
              "      <td>1.987187</td>\n",
              "    </tr>\n",
              "  </tbody>\n",
              "</table>\n",
              "</div>"
            ],
            "text/plain": [
              "   Speed_mean  Speed_max  ...  acceleration_z_max  acceleration_x_max\n",
              "0   10.661912      15.02  ...           10.989721            1.987187\n",
              "\n",
              "[1 rows x 9 columns]"
            ]
          },
          "metadata": {
            "tags": []
          },
          "execution_count": 70
        }
      ]
    },
    {
      "cell_type": "code",
      "metadata": {
        "id": "IkkM26OqJvj7",
        "colab_type": "code",
        "outputId": "65311926-5299-445f-905a-c63b676b33c1",
        "colab": {
          "base_uri": "https://localhost:8080/",
          "height": 34
        }
      },
      "source": [
        "ypred = rf.predict(Xbaru)\n",
        "ypred\n",
        "if ypred == 1:\n",
        "  print('Dangerous!!!')\n",
        "else:\n",
        "  print('Not Dangerous!')"
      ],
      "execution_count": 0,
      "outputs": [
        {
          "output_type": "stream",
          "text": [
            "Dangerous!!!\n"
          ],
          "name": "stdout"
        }
      ]
    }
  ]
}